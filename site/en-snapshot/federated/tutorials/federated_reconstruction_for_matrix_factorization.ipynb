{
  "cells": [
    {
      "cell_type": "markdown",
      "metadata": {
        "id": "qN8P0AnTnAhh"
      },
      "source": [
        "##### Copyright 2021 The TensorFlow Authors."
      ]
    },
    {
      "cell_type": "code",
      "execution_count": null,
      "metadata": {
        "cellView": "form",
        "id": "p8SrVqkmnDQv"
      },
      "outputs": [],
      "source": [
        "#@title Licensed under the Apache License, Version 2.0 (the \"License\");\n",
        "# you may not use this file except in compliance with the License.\n",
        "# You may obtain a copy of the License at\n",
        "#\n",
        "# https://www.apache.org/licenses/LICENSE-2.0\n",
        "#\n",
        "# Unless required by applicable law or agreed to in writing, software\n",
        "# distributed under the License is distributed on an \"AS IS\" BASIS,\n",
        "# WITHOUT WARRANTIES OR CONDITIONS OF ANY KIND, either express or implied.\n",
        "# See the License for the specific language governing permissions and\n",
        "# limitations under the License."
      ]
    },
    {
      "cell_type": "markdown",
      "metadata": {
        "id": "AftvNA5VMemJ"
      },
      "source": [
        "# Federated Reconstruction for Matrix Factorization"
      ]
    },
    {
      "cell_type": "markdown",
      "metadata": {
        "id": "coAumH42q9nz"
      },
      "source": [
        "<table class=\"tfo-notebook-buttons\" align=\"left\">\n",
        "  <td>\n",
        "    <a target=\"_blank\" href=\"https://www.tensorflow.org/federated/tutorials/federated_reconstruction_for_matrix_factorization\"><img src=\"https://www.tensorflow.org/images/tf_logo_32px.png\" />View on TensorFlow.org</a>\n",
        "  </td>\n",
        "  <td>\n",
        "    <a target=\"_blank\" href=\"https://colab.research.google.com/github/tensorflow/federated/blob/master/docs/tutorials/federated_reconstruction_for_matrix_factorization.ipynb\"><img src=\"https://www.tensorflow.org/images/colab_logo_32px.png\" />Run in Google Colab</a>\n",
        "  </td>\n",
        "  <td>\n",
        "    <a target=\"_blank\" href=\"https://github.com/tensorflow/federated/blob/master/docs/tutorials/federated_reconstruction_for_matrix_factorization.ipynb\"><img src=\"https://www.tensorflow.org/images/GitHub-Mark-32px.png\" />View source on GitHub</a>\n",
        "  </td>\n",
        "  <td>\n",
        "    <a href=\"https://storage.googleapis.com/tensorflow_docs/federated/docs/tutorials/federated_reconstruction_for_matrix_factorization.ipynb\"><img src=\"https://www.tensorflow.org/images/download_logo_32px.png\" />Download notebook</a>\n",
        "  </td>\n",
        "</table>"
      ]
    },
    {
      "cell_type": "markdown",
      "metadata": {
        "id": "mxV9o4VmWNti"
      },
      "source": [
        "This tutorial explores *partially local federated learning*, where some client parameters are never aggregated on the server. This is useful for models with user-specific parameters (e.g. matrix factorization models) and for training in communication-limited settings. We build on concepts introduced in the [Federated Learning for Image Classification](https://www.tensorflow.org/federated/tutorials/federated_learning_for_image_classification) tutorial; as in that tutorial, we introduce high-level APIs in `tff.learning` for federated training and evaluation.\n",
        "\n",
        "We begin by motivating partially local federated learning for [matrix factorization](https://en.wikipedia.org/wiki/Matrix_factorization_(recommender_systems)). We describe [Federated Reconstruction](https://arxiv.org/abs/2102.03448), a practical algorithm for partially local federated learning at scale. We prepare the MovieLens 1M dataset, build a partially local model, and train and evaluate it."
      ]
    },
    {
      "cell_type": "code",
      "execution_count": null,
      "metadata": {
        "id": "I8pu6-dckG_u"
      },
      "outputs": [],
      "source": [
        "#@test {\"skip\": true}\n",
        "!pip install --quiet --upgrade tensorflow-federated-nightly\n",
        "!pip install --quiet --upgrade nest-asyncio\n",
        "\n",
        "import nest_asyncio\n",
        "nest_asyncio.apply()"
      ]
    },
    {
      "cell_type": "code",
      "execution_count": null,
      "metadata": {
        "id": "2txfde-th95B"
      },
      "outputs": [],
      "source": [
        "import collections\n",
        "import functools\n",
        "import io\n",
        "import os\n",
        "import requests\n",
        "import zipfile\n",
        "from typing import List, Optional, Tuple\n",
        "\n",
        "import matplotlib.pyplot as plt\n",
        "import numpy as np\n",
        "import pandas as pd\n",
        "import tensorflow as tf\n",
        "import tensorflow_federated as tff\n",
        "\n",
        "np.random.seed(42)"
      ]
    },
    {
      "cell_type": "markdown",
      "metadata": {
        "id": "229PrhyXaw_Y"
      },
      "source": [
        "## Background: Matrix Factorization\n",
        "\n",
        "[Matrix factorization](https://en.wikipedia.org/wiki/Matrix_factorization_(recommender_systems)) has been a historically popular technique for learning recommendations and embedding representations for items based on user interactions. The canonical example is movie recommendation, where there are $n$ users and $m$ movies, and users have rated some movies. Given a user, we use their rating history and the ratings of similar users to predict the user's ratings for movies they haven't seen. If we have a model that can predict ratings, it's easy to recommend users new movies that they'll enjoy.\n",
        "\n",
        "For this task, it's useful to represent users' ratings as an $n \\times m$ matrix $R$:\n",
        "\n",
        "![Matrix Factorization Motivation (CC BY-SA 3.0; Wikipedia User Moshanin)](https://upload.wikimedia.org/wikipedia/commons/5/52/Collaborative_filtering.gif)\n",
        "\n",
        "This matrix is generally sparse, since users typically only see a small fraction of the movies in the dataset. The output of matrix factorization is two matrices: an $n \\times k$ matrix $U$ representing $k$-dimensional user embeddings for each user, and an $m \\times k$ matrix $I$ representing $k$-dimensional item embeddings for each item. The simplest training objective is to ensure that the dot product of user and item embeddings are predictive of observed ratings $O$:\n",
        "\n",
        "$$argmin_{U,I}  \\sum_{(u, i) \\in O} (R_{ui} - U_u I_i^T)^2$$\n",
        "\n",
        "This is equivalent to minimizing the mean squared error between observed ratings and ratings predicted by taking the dot product of the corresponding user and item embeddings. Another way to interpret this is that this ensures that $R \\approx UI^T$ for known ratings, hence \"matrix factorization\". If this is confusing, don't worry–we won't need to know the details of matrix factorization for the rest of the tutorial."
      ]
    },
    {
      "cell_type": "markdown",
      "metadata": {
        "id": "7O37nOQRvAjw"
      },
      "source": [
        "## Exploring MovieLens Data\n",
        "\n",
        "Let's start by loading the [MovieLens 1M](https://grouplens.org/datasets/movielens/1m/) data, which consists of 1,000,209 movie ratings from 6040 users on 3706 movies."
      ]
    },
    {
      "cell_type": "code",
      "execution_count": null,
      "metadata": {
        "id": "DwxoBLaWneOE"
      },
      "outputs": [],
      "source": [
        "def download_and_extract_data(\n",
        "    url: str = \"http://files.grouplens.org/datasets/movielens/ml-1m.zip\",\n",
        "    data_directory: str = \"/tmp\"):\n",
        "  \"\"\"Downloads and extracts zip containing MovieLens data to a given directory.\"\"\"\n",
        "  r = requests.get(url)\n",
        "  z = zipfile.ZipFile(io.BytesIO(r.content))\n",
        "  z.extractall(path=data_directory)\n",
        "\n",
        "download_and_extract_data()"
      ]
    },
    {
      "cell_type": "code",
      "execution_count": null,
      "metadata": {
        "id": "Y6_bskRUniqB"
      },
      "outputs": [],
      "source": [
        "def load_movielens_data(\n",
        "    data_directory: str = \"/tmp\",\n",
        ") -> Tuple[pd.DataFrame, pd.DataFrame]:\n",
        "  \"\"\"Loads pandas DataFrames for ratings, movies, users from data directory.\"\"\"\n",
        "  # Load pandas DataFrames from data directory. Assuming data is formatted as\n",
        "  # specified in http://files.grouplens.org/datasets/movielens/ml-1m-README.txt.\n",
        "  ratings_df = pd.read_csv(\n",
        "      os.path.join(data_directory, \"ml-1m\", \"ratings.dat\"),\n",
        "      sep=\"::\",\n",
        "      names=[\"UserID\", \"MovieID\", \"Rating\", \"Timestamp\"], engine=\"python\")\n",
        "  movies_df = pd.read_csv(\n",
        "      os.path.join(data_directory, \"ml-1m\", \"movies.dat\"),\n",
        "      sep=\"::\",\n",
        "      names=[\"MovieID\", \"Title\", \"Genres\"], engine=\"python\")\n",
        "\n",
        "  # Create dictionaries mapping from old IDs to new (remapped) IDs for both\n",
        "  # MovieID and UserID. Use the movies and users present in ratings_df to\n",
        "  # determine the mapping, since movies and users without ratings are unneeded.\n",
        "  movie_mapping = {\n",
        "      old_movie: new_movie for new_movie, old_movie in enumerate(\n",
        "          ratings_df.MovieID.astype(\"category\").cat.categories)\n",
        "  }\n",
        "  user_mapping = {\n",
        "      old_user: new_user for new_user, old_user in enumerate(\n",
        "          ratings_df.UserID.astype(\"category\").cat.categories)\n",
        "  }\n",
        "\n",
        "  # Map each DataFrame consistently using the now-fixed mapping.\n",
        "  ratings_df.MovieID = ratings_df.MovieID.map(movie_mapping)\n",
        "  ratings_df.UserID = ratings_df.UserID.map(user_mapping)\n",
        "  movies_df.MovieID = movies_df.MovieID.map(movie_mapping)\n",
        "\n",
        "  # Remove nulls resulting from some movies being in movies_df but not\n",
        "  # ratings_df.\n",
        "  movies_df = movies_df[pd.notnull(movies_df.MovieID)]\n",
        "\n",
        "  return ratings_df, movies_df"
      ]
    },
    {
      "cell_type": "markdown",
      "metadata": {
        "id": "nqVrh1o9t1cZ"
      },
      "source": [
        "Let's load and explore a couple Pandas DataFrames containing the rating and movie data."
      ]
    },
    {
      "cell_type": "code",
      "execution_count": null,
      "metadata": {
        "id": "OkAh5nt_n4ll"
      },
      "outputs": [],
      "source": [
        "ratings_df, movies_df = load_movielens_data()"
      ]
    },
    {
      "cell_type": "markdown",
      "metadata": {
        "id": "6aNtIwvNuP7v"
      },
      "source": [
        "We can see that each rating example has a rating from 1-5, a corresponding UserID, a corresponding MovieID, and a timestamp."
      ]
    },
    {
      "cell_type": "code",
      "execution_count": null,
      "metadata": {
        "id": "G4qap4n-C83I"
      },
      "outputs": [
        {
          "data": {
            "text/html": [
              "<div>\n",
              "<style scoped>\n",
              "    .dataframe tbody tr th:only-of-type {\n",
              "        vertical-align: middle;\n",
              "    }\n",
              "\n",
              "    .dataframe tbody tr th {\n",
              "        vertical-align: top;\n",
              "    }\n",
              "\n",
              "    .dataframe thead th {\n",
              "        text-align: right;\n",
              "    }\n",
              "</style>\n",
              "<table border=\"1\" class=\"dataframe\">\n",
              "  <thead>\n",
              "    <tr style=\"text-align: right;\">\n",
              "      <th></th>\n",
              "      <th>UserID</th>\n",
              "      <th>MovieID</th>\n",
              "      <th>Rating</th>\n",
              "      <th>Timestamp</th>\n",
              "    </tr>\n",
              "  </thead>\n",
              "  <tbody>\n",
              "    <tr>\n",
              "      <th>0</th>\n",
              "      <td>0</td>\n",
              "      <td>1104</td>\n",
              "      <td>5</td>\n",
              "      <td>978300760</td>\n",
              "    </tr>\n",
              "    <tr>\n",
              "      <th>1</th>\n",
              "      <td>0</td>\n",
              "      <td>639</td>\n",
              "      <td>3</td>\n",
              "      <td>978302109</td>\n",
              "    </tr>\n",
              "    <tr>\n",
              "      <th>2</th>\n",
              "      <td>0</td>\n",
              "      <td>853</td>\n",
              "      <td>3</td>\n",
              "      <td>978301968</td>\n",
              "    </tr>\n",
              "    <tr>\n",
              "      <th>3</th>\n",
              "      <td>0</td>\n",
              "      <td>3177</td>\n",
              "      <td>4</td>\n",
              "      <td>978300275</td>\n",
              "    </tr>\n",
              "    <tr>\n",
              "      <th>4</th>\n",
              "      <td>0</td>\n",
              "      <td>2162</td>\n",
              "      <td>5</td>\n",
              "      <td>978824291</td>\n",
              "    </tr>\n",
              "  </tbody>\n",
              "</table>\n",
              "</div>"
            ],
            "text/plain": [
              "   UserID  MovieID  Rating  Timestamp\n",
              "0       0     1104       5  978300760\n",
              "1       0      639       3  978302109\n",
              "2       0      853       3  978301968\n",
              "3       0     3177       4  978300275\n",
              "4       0     2162       5  978824291"
            ]
          },
          "execution_count": 7,
          "metadata": {},
          "output_type": "execute_result"
        }
      ],
      "source": [
        "ratings_df.head()"
      ]
    },
    {
      "cell_type": "markdown",
      "metadata": {
        "id": "5og9HO-ZubIJ"
      },
      "source": [
        "Each movie has a title and potentially multiple genres."
      ]
    },
    {
      "cell_type": "code",
      "execution_count": null,
      "metadata": {
        "id": "5TyN-30NC91Z"
      },
      "outputs": [
        {
          "data": {
            "text/html": [
              "<div>\n",
              "<style scoped>\n",
              "    .dataframe tbody tr th:only-of-type {\n",
              "        vertical-align: middle;\n",
              "    }\n",
              "\n",
              "    .dataframe tbody tr th {\n",
              "        vertical-align: top;\n",
              "    }\n",
              "\n",
              "    .dataframe thead th {\n",
              "        text-align: right;\n",
              "    }\n",
              "</style>\n",
              "<table border=\"1\" class=\"dataframe\">\n",
              "  <thead>\n",
              "    <tr style=\"text-align: right;\">\n",
              "      <th></th>\n",
              "      <th>MovieID</th>\n",
              "      <th>Title</th>\n",
              "      <th>Genres</th>\n",
              "    </tr>\n",
              "  </thead>\n",
              "  <tbody>\n",
              "    <tr>\n",
              "      <th>0</th>\n",
              "      <td>0.0</td>\n",
              "      <td>Toy Story (1995)</td>\n",
              "      <td>Animation|Children's|Comedy</td>\n",
              "    </tr>\n",
              "    <tr>\n",
              "      <th>1</th>\n",
              "      <td>1.0</td>\n",
              "      <td>Jumanji (1995)</td>\n",
              "      <td>Adventure|Children's|Fantasy</td>\n",
              "    </tr>\n",
              "    <tr>\n",
              "      <th>2</th>\n",
              "      <td>2.0</td>\n",
              "      <td>Grumpier Old Men (1995)</td>\n",
              "      <td>Comedy|Romance</td>\n",
              "    </tr>\n",
              "    <tr>\n",
              "      <th>3</th>\n",
              "      <td>3.0</td>\n",
              "      <td>Waiting to Exhale (1995)</td>\n",
              "      <td>Comedy|Drama</td>\n",
              "    </tr>\n",
              "    <tr>\n",
              "      <th>4</th>\n",
              "      <td>4.0</td>\n",
              "      <td>Father of the Bride Part II (1995)</td>\n",
              "      <td>Comedy</td>\n",
              "    </tr>\n",
              "  </tbody>\n",
              "</table>\n",
              "</div>"
            ],
            "text/plain": [
              "   MovieID                               Title                        Genres\n",
              "0      0.0                    Toy Story (1995)   Animation|Children's|Comedy\n",
              "1      1.0                      Jumanji (1995)  Adventure|Children's|Fantasy\n",
              "2      2.0             Grumpier Old Men (1995)                Comedy|Romance\n",
              "3      3.0            Waiting to Exhale (1995)                  Comedy|Drama\n",
              "4      4.0  Father of the Bride Part II (1995)                        Comedy"
            ]
          },
          "execution_count": 8,
          "metadata": {},
          "output_type": "execute_result"
        }
      ],
      "source": [
        "movies_df.head()"
      ]
    },
    {
      "cell_type": "markdown",
      "metadata": {
        "id": "YWsip1k5ue5B"
      },
      "source": [
        "It's always a good idea to understand basic statistics of the dataset:"
      ]
    },
    {
      "cell_type": "code",
      "execution_count": null,
      "metadata": {
        "id": "8I1jgmDOCqt4"
      },
      "outputs": [
        {
          "name": "stdout",
          "output_type": "stream",
          "text": [
            "Num users: 6040\n",
            "Num movies: 3706\n"
          ]
        }
      ],
      "source": [
        "print('Num users:', len(set(ratings_df.UserID)))\n",
        "print('Num movies:', len(set(ratings_df.MovieID)))"
      ]
    },
    {
      "cell_type": "code",
      "execution_count": null,
      "metadata": {
        "id": "1aO07Lg21Joa"
      },
      "outputs": [
        {
          "data": {
            "image/png": "[encoded data removed]",
            "text/plain": [
              "<Figure size 432x288 with 1 Axes>"
            ]
          },
          "metadata": {
            "needs_background": "light"
          },
          "output_type": "display_data"
        },
        {
          "name": "stdout",
          "output_type": "stream",
          "text": [
            "Average rating: 3.581564453029317\n",
            "Median rating: 4.0\n"
          ]
        }
      ],
      "source": [
        "ratings = ratings_df.Rating.tolist()\n",
        "\n",
        "plt.hist(ratings, bins=5)\n",
        "plt.xticks([1, 2, 3, 4, 5])\n",
        "plt.ylabel('Count')\n",
        "plt.xlabel('Rating')\n",
        "plt.show()\n",
        "\n",
        "print('Average rating:', np.mean(ratings))\n",
        "print('Median rating:', np.median(ratings))"
      ]
    },
    {
      "cell_type": "markdown",
      "metadata": {
        "id": "poMbHDQguqPA"
      },
      "source": [
        "We can also plot the most popular movie genres."
      ]
    },
    {
      "cell_type": "code",
      "execution_count": null,
      "metadata": {
        "id": "1gYdfRoOw04z"
      },
      "outputs": [
        {
          "data": {
            "image/png": "[encoded data removed]",
            "text/plain": [
              "<Figure size 792x792 with 1 Axes>"
            ]
          },
          "metadata": {},
          "output_type": "display_data"
        }
      ],
      "source": [
        "movie_genres_list = movies_df.Genres.tolist()\n",
        "# Count the number of times each genre describes a movie.\n",
        "genre_count = collections.defaultdict(int)\n",
        "for genres in movie_genres_list:\n",
        "  curr_genres_list = genres.split('|')\n",
        "  for genre in curr_genres_list:\n",
        "    genre_count[genre] += 1\n",
        "genre_name_list, genre_count_list = zip(*genre_count.items())\n",
        "\n",
        "plt.figure(figsize=(11, 11))\n",
        "plt.pie(genre_count_list, labels=genre_name_list)\n",
        "plt.title('MovieLens Movie Genres')\n",
        "plt.show()"
      ]
    },
    {
      "cell_type": "markdown",
      "metadata": {
        "id": "evWb8hg8vk-P"
      },
      "source": [
        "This data is naturally partitioned into ratings from different users, so we'd expect some heterogeneity in data between clients. Below we display the most commonly rated movie genres for different users. We can observe significant differences between users."
      ]
    },
    {
      "cell_type": "code",
      "execution_count": null,
      "metadata": {
        "id": "EfAeZ7f0GlSo"
      },
      "outputs": [
        {
          "name": "stdout",
          "output_type": "stream",
          "text": [
            "\n",
            "For user 0:\n",
            "Drama was rated 21 times\n",
            "Children's was rated 20 times\n",
            "Animation was rated 18 times\n",
            "Musical was rated 14 times\n",
            "Comedy was rated 14 times\n",
            "\n",
            "For user 10:\n",
            "Comedy was rated 84 times\n",
            "Drama was rated 54 times\n",
            "Romance was rated 22 times\n",
            "Thriller was rated 18 times\n",
            "Action was rated 9 times\n",
            "\n",
            "For user 19:\n",
            "Action was rated 17 times\n",
            "Sci-Fi was rated 9 times\n",
            "Thriller was rated 9 times\n",
            "Drama was rated 6 times\n",
            "Crime was rated 5 times\n"
          ]
        }
      ],
      "source": [
        "def print_top_genres_for_user(ratings_df, movies_df, user_id):\n",
        "  \"\"\"Prints top movie genres for user with ID user_id.\"\"\"\n",
        "  user_ratings_df = ratings_df[ratings_df.UserID == user_id]\n",
        "  movie_ids = user_ratings_df.MovieID\n",
        "\n",
        "  genre_count = collections.Counter()\n",
        "  for movie_id in movie_ids:\n",
        "    genres_string = movies_df[movies_df.MovieID == movie_id].Genres.tolist()[0]\n",
        "    for genre in genres_string.split('|'):\n",
        "      genre_count[genre] += 1\n",
        "\n",
        "  print(f'\\nFor user {user_id}:')\n",
        "  for (genre, freq) in genre_count.most_common(5):\n",
        "    print(f'{genre} was rated {freq} times')\n",
        "\n",
        "print_top_genres_for_user(ratings_df, movies_df, user_id=0)\n",
        "print_top_genres_for_user(ratings_df, movies_df, user_id=10)\n",
        "print_top_genres_for_user(ratings_df, movies_df, user_id=19)"
      ]
    },
    {
      "cell_type": "markdown",
      "metadata": {
        "id": "-p88NsfPwTOP"
      },
      "source": [
        "## Preprocessing MovieLens Data\n",
        "\n",
        "We'll now prepare the MovieLens dataset as a list of `tf.data.Dataset`s representing each user's data for use with TFF.\n",
        "\n",
        "We implement two functions:\n",
        "* `create_tf_datasets`: takes our ratings DataFrame and produces a list of user-split `tf.data.Dataset`s.\n",
        "* `split_tf_datasets`: takes a list of datasets and splits them into train/val/test by *user*, so the val/test sets contain only ratings from users **unseen** during training. Typically in standard centralized matrix factorization we actually split so that the val/test sets contain held-out ratings from **seen** users, since unseen users don't have user embeddings. In our case, we'll see later that the approach we use to enable matrix factorization in FL also enables quickly reconstructing user embeddings for unseen users."
      ]
    },
    {
      "cell_type": "code",
      "execution_count": null,
      "metadata": {
        "id": "DHwb2AsvtIwO"
      },
      "outputs": [],
      "source": [
        "def create_tf_datasets(ratings_df: pd.DataFrame,\n",
        "                       batch_size: int = 1,\n",
        "                       max_examples_per_user: Optional[int] = None,\n",
        "                       max_clients: Optional[int] = None) -> List[tf.data.Dataset]:\n",
        "  \"\"\"Creates TF Datasets containing the movies and ratings for all users.\"\"\"\n",
        "  num_users = len(set(ratings_df.UserID))\n",
        "  # Optionally limit to `max_clients` to speed up data loading.\n",
        "  if max_clients is not None:\n",
        "    num_users = min(num_users, max_clients)\n",
        "\n",
        "  def rating_batch_map_fn(rating_batch):\n",
        "    \"\"\"Maps a rating batch to an OrderedDict with tensor values.\"\"\"\n",
        "    # Each example looks like: {x: movie_id, y: rating}.\n",
        "    # We won't need the UserID since each client will only look at their own\n",
        "    # data.\n",
        "    return collections.OrderedDict([\n",
        "        (\"x\", tf.cast(rating_batch[:, 1:2], tf.int64)),\n",
        "        (\"y\", tf.cast(rating_batch[:, 2:3], tf.float32))\n",
        "    ])\n",
        "\n",
        "  tf_datasets = []\n",
        "  for user_id in range(num_users):\n",
        "    # Get subset of ratings_df belonging to a particular user.\n",
        "    user_ratings_df = ratings_df[ratings_df.UserID == user_id]\n",
        "\n",
        "    tf_dataset = tf.data.Dataset.from_tensor_slices(user_ratings_df)\n",
        "\n",
        "    # Define preprocessing operations.\n",
        "    tf_dataset = tf_dataset.take(max_examples_per_user).shuffle(\n",
        "        buffer_size=max_examples_per_user, seed=42).batch(batch_size).map(\n",
        "        rating_batch_map_fn,\n",
        "        num_parallel_calls=tf.data.experimental.AUTOTUNE)\n",
        "    tf_datasets.append(tf_dataset)\n",
        "\n",
        "  return tf_datasets\n",
        "\n",
        "\n",
        "def split_tf_datasets(\n",
        "    tf_datasets: List[tf.data.Dataset],\n",
        "    train_fraction: float = 0.8,\n",
        "    val_fraction: float = 0.1,\n",
        ") -> Tuple[List[tf.data.Dataset], List[tf.data.Dataset], List[tf.data.Dataset]]:\n",
        "  \"\"\"Splits a list of user TF datasets into train/val/test by user.\n",
        "  \"\"\"\n",
        "  np.random.seed(42)\n",
        "  np.random.shuffle(tf_datasets)\n",
        "\n",
        "  train_idx = int(len(tf_datasets) * train_fraction)\n",
        "  val_idx = int(len(tf_datasets) * (train_fraction + val_fraction))\n",
        "\n",
        "  # Note that the val and test data contains completely different users, not\n",
        "  # just unseen ratings from train users.\n",
        "  return (tf_datasets[:train_idx], tf_datasets[train_idx:val_idx],\n",
        "          tf_datasets[val_idx:])"
      ]
    },
    {
      "cell_type": "code",
      "execution_count": null,
      "metadata": {
        "id": "T6pJVpHfns9q"
      },
      "outputs": [],
      "source": [
        "# We limit the number of clients to speed up dataset creation. Feel free to pass\n",
        "# max_clients=None to load all clients' data.\n",
        "tf_datasets = create_tf_datasets(\n",
        "    ratings_df=ratings_df,\n",
        "    batch_size=5,\n",
        "    max_examples_per_user=300,\n",
        "    max_clients=2000)\n",
        "\n",
        "# Split the ratings into training/val/test by client.\n",
        "tf_train_datasets, tf_val_datasets, tf_test_datasets = split_tf_datasets(\n",
        "    tf_datasets,\n",
        "    train_fraction=0.8,\n",
        "    val_fraction=0.1)"
      ]
    },
    {
      "cell_type": "markdown",
      "metadata": {
        "id": "T2SdGARZ0-cm"
      },
      "source": [
        "As a quick check, we can print a batch of training data. We can see that each individual example contains a MovieID under the \"x\" key and a rating under the \"y\" key. Note that we won't need the UserID since each user only sees their own data."
      ]
    },
    {
      "cell_type": "code",
      "execution_count": null,
      "metadata": {
        "id": "9D2rCgcwFP4E"
      },
      "outputs": [
        {
          "name": "stdout",
          "output_type": "stream",
          "text": [
            "OrderedDict([('x', <tf.Tensor: shape=(5, 1), dtype=int64, numpy=\n",
            "array([[1907],\n",
            "       [2891],\n",
            "       [1574],\n",
            "       [2785],\n",
            "       [2775]])>), ('y', <tf.Tensor: shape=(5, 1), dtype=float32, numpy=\n",
            "array([[3.],\n",
            "       [3.],\n",
            "       [3.],\n",
            "       [4.],\n",
            "       [3.]], dtype=float32)>)])\n"
          ]
        }
      ],
      "source": [
        "print(next(iter(tf_train_datasets[0])))"
      ]
    },
    {
      "cell_type": "markdown",
      "metadata": {
        "id": "VOaSLuFK18G7"
      },
      "source": [
        "We can plot a histogram showing the number of ratings per user."
      ]
    },
    {
      "cell_type": "code",
      "execution_count": null,
      "metadata": {
        "id": "98VwSFBe1GPM"
      },
      "outputs": [
        {
          "data": {
            "image/png": "[encoded data removed]",
            "text/plain": [
              "<Figure size 432x288 with 1 Axes>"
            ]
          },
          "metadata": {
            "needs_background": "light"
          },
          "output_type": "display_data"
        }
      ],
      "source": [
        "def count_examples(curr_count, batch):\n",
        "  return curr_count + tf.size(batch['x'])\n",
        "\n",
        "num_examples_list = []\n",
        "# Compute number of examples for every other user.\n",
        "for i in range(0, len(tf_train_datasets), 2):\n",
        "  num_examples = tf_train_datasets[i].reduce(tf.constant(0), count_examples).numpy()\n",
        "  num_examples_list.append(num_examples)\n",
        "\n",
        "plt.hist(num_examples_list, bins=10)\n",
        "plt.ylabel('Count')\n",
        "plt.xlabel('Number of Examples')\n",
        "plt.show()"
      ]
    },
    {
      "cell_type": "markdown",
      "metadata": {
        "id": "eqz6oRm22FWM"
      },
      "source": [
        "Now that we've loaded and explored the data, we'll discuss how to bring matrix factorization to federated learning. Along the way, we'll motivate partially local federated learning."
      ]
    },
    {
      "cell_type": "markdown",
      "metadata": {
        "id": "PMZLj5WprMJM"
      },
      "source": [
        "## Bringing Matrix Factorization to FL\n",
        "\n",
        "While matrix factorization has been traditionally used in centralized settings, it's especially relevant in federated learning:  user ratings may live on separate client devices, and we may want to learn embeddings and recommendations for users and items without centralizing the data. Since each user has a corresponding user embedding, it's natural to have each client store their user embedding–this scales much better than a central server storing all the user embeddings.\n",
        "\n",
        "One proposal for bringing matrix factorization to FL goes as follows:\n",
        "1. The server stores and sends the item matrix $I$ to sampled clients each round\n",
        "2. Clients update the item matrix and their personal user embedding $U_u$ using SGD on the above objective\n",
        "3. Updates to $I$ are aggregated on the server, updating the server copy of $I$ for the next round\n",
        "\n",
        "This approach is *partially local*–that is, some client parameters are never aggregated by the server. Though this approach is appealing, it requires clients to maintain state across rounds, namely their user embeddings. Stateful federated algorithms are less appropriate for cross-device FL settings: in these settings the population size is often much larger than the number of clients that participate in each round, and a client usually participates at most once during the training process. Besides relying on state that may not be initialized, stateful algorithms can result in performance degradation in cross-device settings due to state getting *stale* when clients are infrequently sampled. Importantly, in the matrix factorization setting, a stateful algorithm leads to all unseen clients missing trained user embeddings, and in large-scale training the majority of users may be unseen. For more on the motivation for stateless algorithms in cross-device FL, see [Wang et al. 2021 Sec. 3.1.1](https://arxiv.org/pdf/2107.06917.pdf) and [Reddi et al. 2020 Sec. 5.1](https://arxiv.org/abs/2003.00295).\n",
        "\n",
        "Federated Reconstruction ([Singhal et al. 2021](https://arxiv.org/abs/2102.03448)) is a stateless alternative to the aforementioned approach. The key idea is that instead of storing user embeddings across rounds, clients reconstruct user embeddings when needed. When FedRecon is applied to matrix factorization, training proceeds as follows:\n",
        "1. The server stores and sends the item matrix $I$ to sampled clients each round\n",
        "2. Each client freezes $I$ and trains their user embedding $U_u$ using one or more steps of SGD (reconstruction)\n",
        "3. Each client freezes $U_u$ and trains $I$ using one or more steps of SGD\n",
        "4. Updates to $I$ are aggregated across users, updating the server copy of $I$ for the next round\n",
        "\n",
        "This approach does not require clients to maintain state across rounds. The authors also show in the paper that this method leads to fast reconstruction of user embeddings for unseen clients (Sec. 4.2, Fig. 3, and Table 1), allowing the majority of clients who do not participate in training to have a trained model, enabling recommendations for these clients."
      ]
    },
    {
      "cell_type": "markdown",
      "metadata": {
        "id": "imwLf1zksCjN"
      },
      "source": [
        "## Defining the Model\n",
        "\n",
        "We'll next define the local matrix factorization model to be trained on client devices. This model will include the full item matrix $I$ and a single user embedding $U_u$ for client $u$. Note that clients will not need to store the full user matrix $U$.\n",
        "\n",
        "We'll define the following:\n",
        "- `UserEmbedding`: a simple Keras layer representing a single `num_latent_factors`-dimensional user embedding.\n",
        "- `get_matrix_factorization_model`: a function that returns a [`tff.learning.reconstruction.Model`](https://www.tensorflow.org/federated/api_docs/python/tff/learning/reconstruction/Model) containing the model logic, including which layers are globally aggregated on the server and which layers remain local. We need this additional information to initialize the Federated Reconstruction training process. Here we produce the `tff.learning.reconstruction.Model` from a Keras model using [`tff.learning.reconstruction.from_keras_model`](https://www.tensorflow.org/federated/api_docs/python/tff/learning/reconstruction/from_keras_model). Similar to `tff.learning.Model`, we can also implement a custom `tff.learning.reconstruction.Model` by implementing the class interface."
      ]
    },
    {
      "cell_type": "code",
      "execution_count": null,
      "metadata": {
        "id": "nSLMxPDP3D72"
      },
      "outputs": [],
      "source": [
        "class UserEmbedding(tf.keras.layers.Layer):\n",
        "  \"\"\"Keras layer representing an embedding for a single user, used below.\"\"\"\n",
        "\n",
        "  def __init__(self, num_latent_factors, **kwargs):\n",
        "    super().__init__(**kwargs)\n",
        "    self.num_latent_factors = num_latent_factors\n",
        "\n",
        "  def build(self, input_shape):\n",
        "    self.embedding = self.add_weight(\n",
        "        shape=(1, self.num_latent_factors),\n",
        "        initializer='uniform',\n",
        "        dtype=tf.float32,\n",
        "        name='UserEmbeddingKernel')\n",
        "    super().build(input_shape)\n",
        "\n",
        "  def call(self, inputs):\n",
        "    return self.embedding\n",
        "\n",
        "  def compute_output_shape(self):\n",
        "    return (1, self.num_latent_factors)\n",
        "\n",
        "\n",
        "def get_matrix_factorization_model(\n",
        "    num_items: int,\n",
        "    num_latent_factors: int) -> tff.learning.reconstruction.Model:\n",
        "  \"\"\"Defines a Keras matrix factorization model.\"\"\"\n",
        "  # Layers with variables will be partitioned into global and local layers.\n",
        "  # We'll pass this to `tff.learning.reconstruction.from_keras_model`.\n",
        "  global_layers = []\n",
        "  local_layers = []\n",
        "\n",
        "  # Extract the item embedding.\n",
        "  item_input = tf.keras.layers.Input(shape=[1], name='Item')\n",
        "  item_embedding_layer = tf.keras.layers.Embedding(\n",
        "      num_items,\n",
        "      num_latent_factors,\n",
        "      name='ItemEmbedding')\n",
        "  global_layers.append(item_embedding_layer)\n",
        "  flat_item_vec = tf.keras.layers.Flatten(name='FlattenItems')(\n",
        "      item_embedding_layer(item_input))\n",
        "\n",
        "  # Extract the user embedding.\n",
        "  user_embedding_layer = UserEmbedding(\n",
        "      num_latent_factors,\n",
        "      name='UserEmbedding')\n",
        "  local_layers.append(user_embedding_layer)\n",
        "\n",
        "  # The item_input never gets used by the user embedding layer,\n",
        "  # but this allows the model to directly use the user embedding.\n",
        "  flat_user_vec = user_embedding_layer(item_input)\n",
        "\n",
        "  # Compute the dot product between the user embedding, and the item one.\n",
        "  pred = tf.keras.layers.Dot(\n",
        "      1, normalize=False, name='Dot')([flat_user_vec, flat_item_vec])\n",
        "\n",
        "  input_spec = collections.OrderedDict(\n",
        "      x=tf.TensorSpec(shape=[None, 1], dtype=tf.int64),\n",
        "      y=tf.TensorSpec(shape=[None, 1], dtype=tf.float32))\n",
        "\n",
        "  model = tf.keras.Model(inputs=item_input, outputs=pred)\n",
        "\n",
        "  return tff.learning.reconstruction.from_keras_model(\n",
        "      keras_model=model,\n",
        "      global_layers=global_layers,\n",
        "      local_layers=local_layers,\n",
        "      input_spec=input_spec)"
      ]
    },
    {
      "cell_type": "markdown",
      "metadata": {
        "id": "-B3FPaRiwY3n"
      },
      "source": [
        "Analagous to the interface for Federated Averaging, the interface for Federated Reconstruction expects a `model_fn` with no arguments that returns a `tff.learning.reconstruction.Model`."
      ]
    },
    {
      "cell_type": "code",
      "execution_count": null,
      "metadata": {
        "id": "vNBRQW9EwneZ"
      },
      "outputs": [],
      "source": [
        "# This will be used to produce our training process.\n",
        "# User and item embeddings will be 50-dimensional.\n",
        "model_fn = functools.partial(\n",
        "    get_matrix_factorization_model,\n",
        "    num_items=3706,\n",
        "    num_latent_factors=50)"
      ]
    },
    {
      "cell_type": "markdown",
      "metadata": {
        "id": "fQVpVIfnwvPg"
      },
      "source": [
        "We'll next define `loss_fn` and `metrics_fn`, where `loss_fn` is a no-argument function returning a Keras loss to use to train the model, and `metrics_fn` is a no-argument function returning a list of Keras metrics for evaluation. These are needed to build the training and evaluation computations.\n",
        "\n",
        "We'll use Mean Squared Error as the loss, as mentioned above. For evaluation we'll use rating accuracy (when the model's predicted dot product is rounded to the nearest whole number, how often does it match the label rating?)."
      ]
    },
    {
      "cell_type": "code",
      "execution_count": null,
      "metadata": {
        "id": "FDJUfeSNwxIL"
      },
      "outputs": [],
      "source": [
        "class RatingAccuracy(tf.keras.metrics.Mean):\n",
        "  \"\"\"Keras metric computing accuracy of reconstructed ratings.\"\"\"\n",
        "\n",
        "  def __init__(self,\n",
        "               name: str = 'rating_accuracy',\n",
        "               **kwargs):\n",
        "    super().__init__(name=name, **kwargs)\n",
        "\n",
        "  def update_state(self,\n",
        "                   y_true: tf.Tensor,\n",
        "                   y_pred: tf.Tensor,\n",
        "                   sample_weight: Optional[tf.Tensor] = None):\n",
        "    absolute_diffs = tf.abs(y_true - y_pred)\n",
        "    # A [batch_size, 1] tf.bool tensor indicating correctness within the\n",
        "    # threshold for each example in a batch. A 0.5 threshold corresponds\n",
        "    # to correctness when predictions are rounded to the nearest whole\n",
        "    # number.\n",
        "    example_accuracies = tf.less_equal(absolute_diffs, 0.5)\n",
        "    super().update_state(example_accuracies, sample_weight=sample_weight)\n",
        "\n",
        "\n",
        "loss_fn = lambda: tf.keras.losses.MeanSquaredError()\n",
        "metrics_fn = lambda: [RatingAccuracy()]"
      ]
    },
    {
      "cell_type": "markdown",
      "metadata": {
        "id": "ecM_vru8xg2j"
      },
      "source": [
        "## Training and Evaluation\n",
        "\n",
        "Now we have everything we need to define the training process. One important difference from the [interface for Federated Averaging](https://www.tensorflow.org/federated/api_docs/python/tff/learning/build_federated_averaging_process) is that we now pass in a `reconstruction_optimizer_fn`, which will be used when reconstructing local parameters (in our case, user embeddings). It's generally reasonable to use `SGD` here, with a similar or slightly lower learning rate than the client optimizer learning rate. We provide a working configuration below. This hasn't been carefully tuned, so feel free to play around with different values.\n",
        "\n",
        "Check out the [documentation](https://www.tensorflow.org/federated/api_docs/python/tff/learning/reconstruction/build_training_process) for more details and options."
      ]
    },
    {
      "cell_type": "code",
      "execution_count": null,
      "metadata": {
        "id": "YQsX0FgtwsoE"
      },
      "outputs": [],
      "source": [
        "# We'll use this by doing:\n",
        "# state = training_process.initialize()\n",
        "# state, metrics = training_process.next(state, federated_train_data)\n",
        "training_process = tff.learning.reconstruction.build_training_process(\n",
        "    model_fn=model_fn,\n",
        "    loss_fn=loss_fn,\n",
        "    metrics_fn=metrics_fn,\n",
        "    server_optimizer_fn=lambda: tf.keras.optimizers.SGD(1.0),\n",
        "    client_optimizer_fn=lambda: tf.keras.optimizers.SGD(0.5),\n",
        "    reconstruction_optimizer_fn=lambda: tf.keras.optimizers.SGD(0.1))"
      ]
    },
    {
      "cell_type": "markdown",
      "metadata": {
        "id": "ssbbds4vzhXJ"
      },
      "source": [
        "We can also define a computation for evaluating our trained global model."
      ]
    },
    {
      "cell_type": "code",
      "execution_count": null,
      "metadata": {
        "id": "KHi7J330PtxO"
      },
      "outputs": [],
      "source": [
        "# We'll use this by doing:\n",
        "# eval_metrics = evaluation_computation(state.model, tf_val_datasets)\n",
        "# where `state` is the state from the training process above.\n",
        "evaluation_computation = tff.learning.reconstruction.build_federated_evaluation(\n",
        "    model_fn,\n",
        "    loss_fn=loss_fn,\n",
        "    metrics_fn=metrics_fn,\n",
        "    reconstruction_optimizer_fn=functools.partial(\n",
        "            tf.keras.optimizers.SGD, 0.1))"
      ]
    },
    {
      "cell_type": "markdown",
      "metadata": {
        "id": "h_V_ZwlE0DSl"
      },
      "source": [
        "We can initialize the training process state and examine it. Most importantly, we can see that this server state only stores item variables (currently randomly initialized) and not any user embeddings."
      ]
    },
    {
      "cell_type": "code",
      "execution_count": null,
      "metadata": {
        "id": "I_kOjFVKQoNX"
      },
      "outputs": [
        {
          "name": "stdout",
          "output_type": "stream",
          "text": [
            "ModelWeights(trainable=[array([[ 0.042082  ,  0.02892801,  0.03552857, ..., -0.00973992,\n",
            "        -0.03291281,  0.0405385 ],\n",
            "       [-0.01055092, -0.02160312,  0.01030544, ..., -0.02046665,\n",
            "        -0.03289347,  0.03439221],\n",
            "       [-0.00886904, -0.02107251, -0.00552446, ..., -0.03385947,\n",
            "         0.02481962, -0.04436438],\n",
            "       ...,\n",
            "       [-0.00145835,  0.01102089,  0.03098157, ...,  0.04772879,\n",
            "         0.03262344,  0.04104723],\n",
            "       [ 0.04704097, -0.04257691, -0.0213298 , ...,  0.04919369,\n",
            "        -0.03282031, -0.03221282],\n",
            "       [ 0.014933  ,  0.00469371, -0.03846054, ..., -0.0326664 ,\n",
            "        -0.04455671,  0.01533483]], dtype=float32)], non_trainable=[])\n",
            "Item variables shape: (3706, 50)\n"
          ]
        }
      ],
      "source": [
        "state = training_process.initialize()\n",
        "print(state.model)\n",
        "print('Item variables shape:', state.model.trainable[0].shape)"
      ]
    },
    {
      "cell_type": "markdown",
      "metadata": {
        "id": "yPFqgTV21lJO"
      },
      "source": [
        "We can also try to evaluate our randomly initialized model on validation clients. Federated Reconstruction evaluation here involves the following:\n",
        "\n",
        "1. The server sends the item matrix $I$ to sampled evaluation clients\n",
        "2. Each client freezes $I$ and trains their user embedding $U_u$ using one or more steps of SGD (reconstruction)\n",
        "3. Each client calculates loss and metrics using the server $I$ and reconstructed $U_u$ on an unseen portion of their local data\n",
        "4. Losses and metrics are averaged across users to calculate overall loss and metrics\n",
        "\n",
        "Note that steps 1 and 2 are the same as for training. This connection is important, since training the same way we evaluate leads to a form of *meta-learning*, or learning how to learn. In this case, the model is learning how to learn global variables (item matrix) that lead to performant reconstruction of local variables (user embeddings). For more on this, see [Sec. 4.2](https://arxiv.org/abs/2102.03448) of the paper.\n",
        "\n",
        "It's also important for steps 2 and 3 to be performed using disjoint portions of clients' local data, to ensure fair evaluation. By default, both the training process and evaluation computation use every other example for reconstruction and use the other half post-reconstruction. This behavior can be customized using the `dataset_split_fn` argument (we'll explore this further later)."
      ]
    },
    {
      "cell_type": "code",
      "execution_count": null,
      "metadata": {
        "id": "JiBOGFsWWBiU"
      },
      "outputs": [
        {
          "name": "stdout",
          "output_type": "stream",
          "text": [
            "Initial Eval: OrderedDict([('loss', 14.340536), ('rating_accuracy', 0.0)])\n"
          ]
        }
      ],
      "source": [
        "# We shouldn't expect good evaluation results here, since we haven't trained\n",
        "# yet!\n",
        "eval_metrics = evaluation_computation(state.model, tf_val_datasets)\n",
        "print('Initial Eval:', eval_metrics['eval'])"
      ]
    },
    {
      "cell_type": "markdown",
      "metadata": {
        "id": "aZUZwjWp4iJu"
      },
      "source": [
        "We can next try running a round of training. To make things more realistic, we'll sample 50 clients per round randomly without replacement. We should still expect train metrics to be poor, since we're only doing one round of training."
      ]
    },
    {
      "cell_type": "code",
      "execution_count": null,
      "metadata": {
        "id": "lOTfqrVcVfJf"
      },
      "outputs": [
        {
          "name": "stdout",
          "output_type": "stream",
          "text": [
            "Train metrics: OrderedDict([('rating_accuracy', 0.0), ('loss', 14.315199)])\n"
          ]
        }
      ],
      "source": [
        "federated_train_data = np.random.choice(tf_train_datasets, size=50, replace=False).tolist()\n",
        "state, metrics = training_process.next(state, federated_train_data)\n",
        "print(f'Train metrics:', metrics['train'])"
      ]
    },
    {
      "cell_type": "markdown",
      "metadata": {
        "id": "Rr3ZS9jz5Mj0"
      },
      "source": [
        "Now let's set up a training loop to train over multiple rounds."
      ]
    },
    {
      "cell_type": "code",
      "execution_count": null,
      "metadata": {
        "id": "VJBzOPNYwp9q"
      },
      "outputs": [
        {
          "name": "stdout",
          "output_type": "stream",
          "text": [
            "Train round 0: OrderedDict([('rating_accuracy', 0.0), ('loss', 14.703886)])\n",
            "Train round 1: OrderedDict([('rating_accuracy', 0.0), ('loss', 14.4655075)])\n",
            "Train round 2: OrderedDict([('rating_accuracy', 0.0), ('loss', 14.555782)])\n",
            "Train round 3: OrderedDict([('rating_accuracy', 0.0), ('loss', 14.223045)])\n",
            "Train round 4: OrderedDict([('rating_accuracy', 0.008858603), ('loss', 11.478272)])\n",
            "Train round 5: OrderedDict([('rating_accuracy', 0.057360742), ('loss', 8.565436)])\n",
            "Train round 6: OrderedDict([('rating_accuracy', 0.117791414), ('loss', 5.4203544)])\n",
            "Train round 7: OrderedDict([('rating_accuracy', 0.14078751), ('loss', 5.2635593)])\n",
            "Train round 8: OrderedDict([('rating_accuracy', 0.20815265), ('loss', 3.8925095)])\n",
            "Train round 9: OrderedDict([('rating_accuracy', 0.20857474), ('loss', 3.3442488)])\n",
            "Train round 10: OrderedDict([('rating_accuracy', 0.21615875), ('loss', 3.513455)])\n",
            "Train round 11: OrderedDict([('rating_accuracy', 0.23258345), ('loss', 3.0323539)])\n",
            "Train round 12: OrderedDict([('rating_accuracy', 0.21807396), ('loss', 3.2061534)])\n",
            "Train round 13: OrderedDict([('rating_accuracy', 0.28125), ('loss', 2.3560402)])\n",
            "Train round 14: OrderedDict([('rating_accuracy', 0.2622365), ('loss', 2.717421)])\n",
            "Train round 15: OrderedDict([('rating_accuracy', 0.27025375), ('loss', 2.3197386)])\n",
            "Train round 16: OrderedDict([('rating_accuracy', 0.29124364), ('loss', 2.5380507)])\n",
            "Train round 17: OrderedDict([('rating_accuracy', 0.3017544), ('loss', 2.0651221)])\n",
            "Train round 18: OrderedDict([('rating_accuracy', 0.29557413), ('loss', 2.1093996)])\n",
            "Train round 19: OrderedDict([('rating_accuracy', 0.3086304), ('loss', 2.0597904)])\n",
            "Final Eval: OrderedDict([('loss', 2.0061936), ('rating_accuracy', 0.3023895)])\n"
          ]
        }
      ],
      "source": [
        "NUM_ROUNDS = 20\n",
        "\n",
        "train_losses = []\n",
        "train_accs = []\n",
        "\n",
        "state = training_process.initialize()\n",
        "\n",
        "# This may take a couple minutes to run.\n",
        "for i in range(NUM_ROUNDS):\n",
        "  federated_train_data = np.random.choice(tf_train_datasets, size=50, replace=False).tolist()\n",
        "  state, metrics = training_process.next(state, federated_train_data)\n",
        "  print(f'Train round {i}:', metrics['train'])\n",
        "  train_losses.append(metrics['train']['loss'])\n",
        "  train_accs.append(metrics['train']['rating_accuracy'])\n",
        "\n",
        "\n",
        "eval_metrics = evaluation_computation(state.model, tf_val_datasets)\n",
        "print('Final Eval:', eval_metrics['eval'])"
      ]
    },
    {
      "cell_type": "markdown",
      "metadata": {
        "id": "yM-jAGNm5di7"
      },
      "source": [
        "We can plot training loss and accuracy over rounds. The hyperparameters in this notebook have not been carefully tuned, so feel free to try different clients per round, learning rates, number of rounds, and total number of clients to improve these results."
      ]
    },
    {
      "cell_type": "code",
      "execution_count": null,
      "metadata": {
        "id": "h6w702JmR-3V"
      },
      "outputs": [
        {
          "data": {
            "image/png": "[encoded data removed]",
            "text/plain": [
              "<Figure size 432x288 with 1 Axes>"
            ]
          },
          "metadata": {
            "needs_background": "light"
          },
          "output_type": "display_data"
        },
        {
          "data": {
            "image/png": "[encoded data removed]",
            "text/plain": [
              "<Figure size 432x288 with 1 Axes>"
            ]
          },
          "metadata": {
            "needs_background": "light"
          },
          "output_type": "display_data"
        }
      ],
      "source": [
        "plt.plot(range(NUM_ROUNDS), train_losses)\n",
        "plt.ylabel('Train Loss')\n",
        "plt.xlabel('Round')\n",
        "plt.title('Train Loss')\n",
        "plt.show()\n",
        "\n",
        "plt.plot(range(NUM_ROUNDS), train_accs)\n",
        "plt.ylabel('Train Accuracy')\n",
        "plt.xlabel('Round')\n",
        "plt.title('Train Accuracy')\n",
        "plt.show()"
      ]
    },
    {
      "cell_type": "markdown",
      "metadata": {
        "id": "ZTzKkT-a5kgX"
      },
      "source": [
        "Finally, we can calculate metrics on an unseen test set when we're finished tuning."
      ]
    },
    {
      "cell_type": "code",
      "execution_count": null,
      "metadata": {
        "id": "Iq0UxEBBJcR-"
      },
      "outputs": [
        {
          "name": "stdout",
          "output_type": "stream",
          "text": [
            "Final Test: OrderedDict([('loss', 1.9616014), ('rating_accuracy', 0.30813995)])\n"
          ]
        }
      ],
      "source": [
        "eval_metrics = evaluation_computation(state.model, tf_test_datasets)\n",
        "print('Final Test:', eval_metrics['eval'])"
      ]
    },
    {
      "cell_type": "markdown",
      "metadata": {
        "id": "Mr2fRxic6Lfi"
      },
      "source": [
        "## Further Explorations\n",
        "\n",
        "Nice work on completing this notebook. We suggest the following exercises to explore partially local federated learning further, roughly ordered by increasing difficulty:\n",
        "\n",
        "* Typical implementations of Federated Averaging take multiple local passes (epochs) over the data (in addition to taking one pass over the data across multiple batches). For Federated Reconstruction we may want to control the number of steps separately for reconstruction and post-reconstruction training. Passing the `dataset_split_fn` argument to the training and evaluation computation builders enables control of the number of steps and epochs over both reconstruction and post-reconstruction datasets. As an exercise, try performing 3 local epochs of reconstruction training, capped at 50 steps and 1 local epoch of post-reconstruction training, capped at 50 steps. Hint: you'll find [`tff.learning.reconstruction.build_dataset_split_fn`](https://www.tensorflow.org/federated/api_docs/python/tff/learning/reconstruction/build_dataset_split_fn) helpful. Once you've done this, try tuning these hyperparameters and other related ones like learning rates and batch size to get better results.\n",
        "\n",
        "* The default behavior of Federated Reconstruction training and evaluation is to split clients' local data in half for each of reconstruction and post-reconstruction. In cases where clients have very little local data, it can be reasonable to reuse data for reconstruction and post-reconstruction for the training process only (not for evaluation, this will lead to unfair evaluation). Try making this change for the training process, ensuring the `dataset_split_fn` for evaluation still keeps reconstruction and post-reconstruction data disjoint. Hint: [`tff.learning.reconstruction.simple_dataset_split_fn`](https://www.tensorflow.org/federated/api_docs/python/tff/learning/reconstruction/simple_dataset_split_fn) might be useful.\n",
        "\n",
        "* Above, we produced a `tff.learning.Model` from a Keras model using `tff.learning.reconstruction.from_keras_model`. We can also implement a custom model using pure TensorFlow 2.0 by [implementing the model interface](https://www.tensorflow.org/federated/api_docs/python/tff/learning/reconstruction/Model). Try modifying `get_matrix_factorization_model` to build and return a class that extends `tff.learning.reconstruction.Model`, implementing its methods. Hint: the source code of [`tff.learning.reconstruction.from_keras_model`](https://www.tensorflow.org/federated/api_docs/python/tff/learning/reconstruction/from_keras_model) provides an example of extending the `tff.learning.reconstruction.Model` class. Refer also to the [custom model implementation in the EMNIST image classification tutorial](https://www.tensorflow.org/federated/tutorials/federated_learning_for_image_classification#customizing_the_model_implementation) for a similar exercise in extending a `tff.learning.Model`.\n",
        "\n",
        "* In this tutorial, we've motivated partially local federated learning in the context of matrix factorization, where sending user embeddings to the server would trivially leak user preferences. We can also apply Federated Reconstruction in other settings as a way to train more personal models (since part of the model is completely local to each user) while reducing communication (since local parameters are not sent to the server). In general, using the interface presented here we can take any federated model that would typically be trained fully globally and instead partition its variables into global variables and local variables. The example explored in the [Federated Reconstruction paper](https://arxiv.org/abs/2102.03448) is personal next word prediction: here, each user has their own local set of word embeddings for out-of-vocabulary words, enabling the model to capture users' slang and achieve personalization without additional communication. As an exercise, try implementing (as either a Keras model or a custom TensorFlow 2.0 model) a different model for use with Federated Reconstruction. A suggestion: implement an EMNIST classification model with a personal user embedding, where the personal user embedding is concatenated to the CNN image features before the last Dense layer of the model. You can reuse much of the code from this tutorial (e.g. the `UserEmbedding` class) and the [image classification tutorial](https://www.tensorflow.org/federated/tutorials/federated_learning_for_image_classification).\n",
        "\n",
        "\\\n",
        "If you're still looking for more on partially local federated learning, check out the [Federated Reconstruction paper](https://arxiv.org/abs/2102.03448) and [open-source experiment code](https://github.com/google-research/federated/tree/master/reconstruction)."
      ]
    }
  ],
  "metadata": {
    "colab": {
      "collapsed_sections": [],
      "name": "federated_reconstruction_for_matrix_factorization.ipynb",
      "toc_visible": true
    },
    "kernelspec": {
      "display_name": "Python 3",
      "name": "python3"
    }
  },
  "nbformat": 4,
  "nbformat_minor": 0
}
